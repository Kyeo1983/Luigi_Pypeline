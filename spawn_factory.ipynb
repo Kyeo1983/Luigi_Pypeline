{
 "cells": [
  {
   "cell_type": "code",
   "execution_count": 75,
   "metadata": {
    "collapsed": true
   },
   "outputs": [],
   "source": [
    "import pandas as pd\n",
    "import math\n",
    "from datetime import datetime\n",
    "from datetime import timedelta\n",
    "import time"
   ]
  },
  {
   "cell_type": "code",
   "execution_count": 76,
   "metadata": {
    "collapsed": false
   },
   "outputs": [
    {
     "data": {
      "text/html": [
       "<div>\n",
       "<table border=\"1\" class=\"dataframe\">\n",
       "  <thead>\n",
       "    <tr style=\"text-align: right;\">\n",
       "      <th></th>\n",
       "      <th>JOBID</th>\n",
       "      <th>JOBNAME</th>\n",
       "      <th>UNLOADED</th>\n",
       "      <th>LOAD_DAY</th>\n",
       "      <th>LOAD_TIME</th>\n",
       "      <th>UNLOAD_TIME</th>\n",
       "      <th>FREQ</th>\n",
       "      <th>NEXT_RUN_TIME</th>\n",
       "    </tr>\n",
       "  </thead>\n",
       "  <tbody>\n",
       "    <tr>\n",
       "      <th>0</th>\n",
       "      <td>1</td>\n",
       "      <td>sample_stage</td>\n",
       "      <td>N</td>\n",
       "      <td>1,2,3,4,5</td>\n",
       "      <td>19:00</td>\n",
       "      <td>20:00</td>\n",
       "      <td>120</td>\n",
       "      <td>NaN</td>\n",
       "    </tr>\n",
       "  </tbody>\n",
       "</table>\n",
       "</div>"
      ],
      "text/plain": [
       "   JOBID       JOBNAME UNLOADED   LOAD_DAY LOAD_TIME UNLOAD_TIME  FREQ  \\\n",
       "0      1  sample_stage        N  1,2,3,4,5     19:00       20:00   120   \n",
       "\n",
       "   NEXT_RUN_TIME  \n",
       "0            NaN  "
      ]
     },
     "execution_count": 76,
     "metadata": {},
     "output_type": "execute_result"
    }
   ],
   "source": [
    "df = pd.read_csv('./temp/jobtable.csv')\n",
    "df"
   ]
  },
  {
   "cell_type": "code",
   "execution_count": 86,
   "metadata": {
    "collapsed": false
   },
   "outputs": [
    {
     "ename": "AttributeError",
     "evalue": "'dict' object has no attribute 'JOBID'",
     "output_type": "error",
     "traceback": [
      "\u001b[1;31m---------------------------------------------------------------------------\u001b[0m",
      "\u001b[1;31mAttributeError\u001b[0m                            Traceback (most recent call last)",
      "\u001b[1;32m<ipython-input-86-c29b1b25ed64>\u001b[0m in \u001b[0;36m<module>\u001b[1;34m()\u001b[0m\n\u001b[0;32m      1\u001b[0m \u001b[0mdbcol\u001b[0m \u001b[1;33m=\u001b[0m \u001b[1;33m{\u001b[0m \u001b[1;34m'JOBID'\u001b[0m\u001b[1;33m:\u001b[0m\u001b[1;36m0\u001b[0m\u001b[1;33m,\u001b[0m \u001b[1;34m'JOBNAME'\u001b[0m\u001b[1;33m:\u001b[0m\u001b[1;36m1\u001b[0m\u001b[1;33m,\u001b[0m \u001b[1;34m'UNLOADED'\u001b[0m\u001b[1;33m:\u001b[0m\u001b[1;36m2\u001b[0m\u001b[1;33m,\u001b[0m \u001b[1;34m'LOAD_DAY'\u001b[0m\u001b[1;33m:\u001b[0m\u001b[1;36m3\u001b[0m\u001b[1;33m,\u001b[0m \u001b[1;34m'LOAD_TIME'\u001b[0m\u001b[1;33m:\u001b[0m\u001b[1;36m4\u001b[0m\u001b[1;33m,\u001b[0m \u001b[1;34m'UNLOAD_TIME'\u001b[0m\u001b[1;33m:\u001b[0m\u001b[1;36m5\u001b[0m\u001b[1;33m,\u001b[0m \u001b[1;34m'FREQ'\u001b[0m\u001b[1;33m:\u001b[0m\u001b[1;36m6\u001b[0m\u001b[1;33m,\u001b[0m \u001b[1;34m'NEXT_RUN_TIME'\u001b[0m\u001b[1;33m:\u001b[0m\u001b[1;36m7\u001b[0m \u001b[1;33m}\u001b[0m\u001b[1;33m\u001b[0m\u001b[0m\n\u001b[1;32m----> 2\u001b[1;33m \u001b[0mdbcol\u001b[0m\u001b[1;33m.\u001b[0m\u001b[0mJOBID\u001b[0m\u001b[1;33m\u001b[0m\u001b[0m\n\u001b[0m",
      "\u001b[1;31mAttributeError\u001b[0m: 'dict' object has no attribute 'JOBID'"
     ]
    }
   ],
   "source": [
    "dbcol = { 'JOBID':0, 'JOBNAME':1, 'UNLOADED':2, 'LOAD_DAY':3, 'LOAD_TIME':4, 'UNLOAD_TIME':5, 'FREQ':6, 'NEXT_RUN_TIME':7 }\n",
    "dbcol['JOBID"
   ]
  },
  {
   "cell_type": "code",
   "execution_count": 82,
   "metadata": {
    "collapsed": false
   },
   "outputs": [],
   "source": [
    "now = datetime.now()\n",
    "for row in df.values:\n",
    "    loaded_ok = row[2] != 'Y'\n",
    "    \n",
    "    load_time = datetime.strptime(row[4], '%H:%M').time()\n",
    "    unload_time = datetime.strptime(row[5], '%H:%M').time()\n",
    "    time_ok = load_time <= now.time() and now.time() <= unload_time\n",
    "    \n",
    "    load_days = row[3].split(',')\n",
    "    day_ok = str(now.weekday() + 1) in load_days\n",
    "    \n",
    "    next_run_ok = row[7] is None or math.isnan(row[7])\n",
    "    if not next_run_ok:\n",
    "        next_run_time = datetime.strptime(row[7], '%H:%M').time()\n",
    "        next_run_ok = next_run_time.time() <= now.time()\n",
    "\n",
    "    if loaded_ok and time_ok and day_ok and next_run_ok:\n",
    "        runJob(row[1], row[6])"
   ]
  },
  {
   "cell_type": "code",
   "execution_count": 72,
   "metadata": {
    "collapsed": false
   },
   "outputs": [],
   "source": [
    "def runJob(jobname, freq):\n",
    "    # TODO run job\n",
    "    \n",
    "    \n",
    "    if freq is None or math.isnan(freq):\n",
    "        # TODO, no frequency, set UNLOADED to Y        \n",
    "        a = \"UPDATE db SET UNLOADED = 'Y'\"\n",
    "    nextrun = datetime.now() + timedelta(seconds=freq)\n",
    "    # TODO set next run in database"
   ]
  }
 ],
 "metadata": {
  "kernelspec": {
   "display_name": "Python 3",
   "language": "python",
   "name": "python3"
  },
  "language_info": {
   "codemirror_mode": {
    "name": "ipython",
    "version": 3
   },
   "file_extension": ".py",
   "mimetype": "text/x-python",
   "name": "python",
   "nbconvert_exporter": "python",
   "pygments_lexer": "ipython3",
   "version": "3.5.2"
  }
 },
 "nbformat": 4,
 "nbformat_minor": 2
}
