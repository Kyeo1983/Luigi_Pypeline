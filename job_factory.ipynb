{
 "cells": [
  {
   "cell_type": "code",
   "execution_count": 1,
   "metadata": {
    "collapsed": true,
    "deletable": true,
    "editable": true
   },
   "outputs": [],
   "source": [
    "from jinja2 import Environment\n",
    "from jinja2 import FileSystemLoader\n",
    "from datetime import datetime\n",
    "import json\n",
    "import os\n",
    "import re\n",
    "from pathlib import Path"
   ]
  },
  {
   "cell_type": "code",
   "execution_count": 2,
   "metadata": {
    "collapsed": true,
    "deletable": true,
    "editable": true
   },
   "outputs": [],
   "source": [
    "import sys\n",
    "sys.path.append('../utilities')"
   ]
  },
  {
   "cell_type": "code",
   "execution_count": 3,
   "metadata": {
    "collapsed": false,
    "deletable": true,
    "editable": true
   },
   "outputs": [],
   "source": [
    "BASE_PATH = Path('.')\n",
    "JOB_MARKER_PATH = BASE_PATH / 'jobmarkers'\n",
    "JOB_PATH = BASE_PATH / 'jobs'\n",
    "STAGE_PATH = BASE_PATH / 'stages'\n",
    "BASE_STAGE_PATH = STAGE_PATH / 'base'\n",
    "from utilities.configs.importsconf import conf as importsconfig\n",
    "from utilities.configs.stagesconf import conf as stagesconfig"
   ]
  },
  {
   "cell_type": "code",
   "execution_count": 4,
   "metadata": {
    "collapsed": false,
    "deletable": true,
    "editable": true
   },
   "outputs": [
    {
     "name": "stdout",
     "output_type": "stream",
     "text": [
      "input_steps [{'id': '1', 'param_out_var': '_df', 'stage': 'sample_stage'}]\n"
     ]
    }
   ],
   "source": [
    "input_file = json.load(open('./temp/inputs.json', 'r'))\n",
    "input_name = input_file['name']\n",
    "input_steps = input_file['sequence']\n",
    "print('input_steps', input_steps)"
   ]
  },
  {
   "cell_type": "code",
   "execution_count": 5,
   "metadata": {
    "collapsed": false,
    "deletable": true,
    "editable": true
   },
   "outputs": [],
   "source": [
    "datefile = datetime.now().strftime('%Y%m%d_%H-%M-%S')\n",
    "outputfile = JOB_PATH / '{}.py'.format(input_name)\n",
    "outputbatfile = JOB_PATH / '{}.bat'.format(input_name)"
   ]
  },
  {
   "cell_type": "code",
   "execution_count": 6,
   "metadata": {
    "collapsed": false,
    "deletable": true,
    "editable": true
   },
   "outputs": [],
   "source": [
    "def render(tpl_path, context):\n",
    "    path, filename = os.path.split(tpl_path)\n",
    "    return Environment(loader=FileSystemLoader(path or './')).get_template(filename).render(context)"
   ]
  },
  {
   "cell_type": "code",
   "execution_count": 19,
   "metadata": {
    "collapsed": false
   },
   "outputs": [],
   "source": [
    "if os.name == 'nt':\n",
    "    # on windows\n",
    "    output = open(str(outputfile), 'w')\n",
    "    outputbat = open(str(outputbatfile), 'w')\n",
    "    output.write(open(str(BASE_STAGE_PATH / 'imports.py'), \"r\").readlines())\n",
    "else:\n",
    "    output = open(outputfile.resolve(), 'w')\n",
    "    outputbat = open(outputbatfile.resolve(), 'w')\n",
    "    output.write(open((BASE_STAGE_PATH / 'imports.py').resolve(), \"r\").readlines())"
   ]
  },
  {
   "cell_type": "code",
   "execution_count": 8,
   "metadata": {
    "collapsed": true
   },
   "outputs": [],
   "source": [
    "to_import = []\n",
    "rendered = []\n",
    "list_job_id = []\n",
    "list_parent_id = []"
   ]
  },
  {
   "cell_type": "code",
   "execution_count": 17,
   "metadata": {
    "collapsed": false
   },
   "outputs": [],
   "source": [
    "if os.name == 'nt':\n",
    "    # on windows\n",
    "    rendered.append(open(str(BASE_STAGE_PATH / 'start.py'), \"r\").read())\n",
    "else:\n",
    "    rendered.append(open((BASE_STAGE_PATH / 'start.py').resolve(), \"r\").read())"
   ]
  },
  {
   "cell_type": "code",
   "execution_count": 10,
   "metadata": {
    "collapsed": true
   },
   "outputs": [],
   "source": [
    "for step in input_steps:\n",
    "    if 'parent' not in step:\n",
    "        step['parent'] = 'start'\n",
    "        \n",
    "    stageconf = stagesconfig[step['stage']]\n",
    "    ren = render(stageconf['path'], step)\n",
    "    rendered.append(ren + '\\n')\n",
    "    \n",
    "    # getting needed imports into list\n",
    "    to_import = to_import + [i for i in stageconf['dependencies'] if i not in to_import]\n",
    "    \n",
    "    # adding the ending\n",
    "    list_job_id.append(step['id'])\n",
    "    list_parent_id.append(step['parent'])"
   ]
  },
  {
   "cell_type": "code",
   "execution_count": 12,
   "metadata": {
    "collapsed": false
   },
   "outputs": [
    {
     "data": {
      "text/plain": [
       "48"
      ]
     },
     "execution_count": 12,
     "metadata": {},
     "output_type": "execute_result"
    }
   ],
   "source": [
    "# looping through import list and write import lines\n",
    "for imports in to_import:\n",
    "    importconf = importsconfig[imports]\n",
    "    importstr = ''\n",
    "    if 'importclass' in importconf:\n",
    "        importstr = 'from {} import {}'.format(importconf['package'], importconf['importclass'])\n",
    "    else:\n",
    "        importstr = 'import {}'.format(importconf['package'])\n",
    "    \n",
    "    if 'alias' in importconf:\n",
    "        importstr = '{} as {}'.format(importstr, importconf['alias'])        \n",
    "    output.write('{}\\n'.format(importstr))\n",
    "    \n",
    "sysFolder = '{}/{}'.format(JOB_MARKER_PATH, input_name)\n",
    "output.write(\"ctx = {{'sysFolder' : '{}'}}\\n\".format(sysFolder))"
   ]
  },
  {
   "cell_type": "code",
   "execution_count": 13,
   "metadata": {
    "collapsed": true
   },
   "outputs": [],
   "source": [
    "for item in rendered:\n",
    "    output.write(\"{}\\n\".format(item))"
   ]
  },
  {
   "cell_type": "code",
   "execution_count": 14,
   "metadata": {
    "collapsed": false
   },
   "outputs": [
    {
     "data": {
      "text/plain": [
       "48"
      ]
     },
     "execution_count": 14,
     "metadata": {},
     "output_type": "execute_result"
    }
   ],
   "source": [
    "# prep bat file\n",
    "outputbat.write('python -m luigi --module {} stage_end\\n'.format(input_name))"
   ]
  },
  {
   "cell_type": "code",
   "execution_count": 20,
   "metadata": {
    "collapsed": true
   },
   "outputs": [],
   "source": [
    "outputbat.close()\n",
    "output.close()"
   ]
  }
 ],
 "metadata": {
  "kernelspec": {
   "display_name": "Python 3",
   "language": "python",
   "name": "python3"
  },
  "language_info": {
   "codemirror_mode": {
    "name": "ipython",
    "version": 3
   },
   "file_extension": ".py",
   "mimetype": "text/x-python",
   "name": "python",
   "nbconvert_exporter": "python",
   "pygments_lexer": "ipython3",
   "version": "3.5.2"
  }
 },
 "nbformat": 4,
 "nbformat_minor": 2
}
